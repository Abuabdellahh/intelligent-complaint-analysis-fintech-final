{
 "cells": [
  {
   "cell_type": "markdown",
   "metadata": {},
   "source": [
    "# Task 1: EDA and Data Preprocessing\n",
    "\n",
    "## Import Libraries"
   ]
  },
  {
   "cell_type": "code",
   "execution_count": null,
   "metadata": {},
   "source": [
    "import pandas as pd\n",
    "import numpy as np\n",
    "import matplotlib.pyplot as plt\n",
    "import seaborn as sns\n",
    "from collections import Counter\n",
    "import re\n",
    "\n",
    "# Set plot style\n",
    "plt.style.use('seaborn')\n",
    "sns.set_palette('husl')\n",
    "\n",
    "# Set figure size\n",
    "plt.rcParams['figure.figsize'] = (12, 6)\n",
    "\n",
    "# Set random seed for reproducibility\n",
    "np.random.seed(42)"
   ]
  },
  {
   "cell_type": "markdown",
   "metadata": {},
   "source": [
    "## Load Data"
   ]
  },
  {
   "cell_type": "code",
   "execution_count": null,
   "metadata": {},
   "source": [
    "# Load the CFPB complaint dataset\n",
    "df = pd.read_csv('../data/consumer_complaints.csv')\n",
    "\n",
    "# Display basic information\n",
    "print('Dataset shape:', df.shape)\n",
    "print('\nFirst few rows:\n', df.head())\n",
    "print('\nColumn information:\n', df.info())"
   ]
  },
  {
   "cell_type": "markdown",
   "metadata": {},
   "source": [
    "## Data Analysis\n",
    "\n",
    "### 1. Product Distribution"
   ]
  },
  {
   "cell_type": "code",
   "execution_count": null,
   "metadata": {},
   "source": [
    "# Count complaints per product\n",
    "product_counts = df['Product'].value_counts()\n",
    "\n",
    "# Plot product distribution\n",
    "plt.figure(figsize=(12, 8))\n",
    "product_counts.plot(kind='bar', color='skyblue')\n",
    "plt.title('Distribution of Complaints by Product')\n",
    "plt.xlabel('Product')\n",
    "plt.ylabel('Number of Complaints')\n",
    "plt.xticks(rotation=45)\n",
    "plt.tight_layout()\n",
    "plt.show()"
   ]
  },
  {
   "cell_type": "markdown",
   "metadata": {},
   "source": [
    "### 2. Narrative Length Analysis"
   ]
  },
  {
   "cell_type": "code",
   "execution_count": null,
   "metadata": {},
   "source": [
    "# Calculate narrative lengths\n",
    "df['narrative_length'] = df['Consumer complaint narrative'].apply(\n",
    "    lambda x: len(str(x).split()) if pd.notna(x) else 0\n",
    ")\n",
    "\n",
    "# Plot narrative length distribution\n",
    "plt.figure(figsize=(12, 6))\n",
    "sns.histplot(df['narrative_length'], bins=50, kde=True)\n",
    "plt.title('Distribution of Narrative Lengths')\n",
    "plt.xlabel('Number of Words')\n",
    "plt.ylabel('Number of Complaints')\n",
    "plt.show()\n",
    "\n",
    "# Print summary statistics\n",
    "print('Narrative Length Statistics:\n', df['narrative_length'].describe())"
   ]
  },
  {
   "cell_type": "markdown",
   "metadata": {},
   "source": [
    "### 3. Missing Values Analysis"
   ]
  },
  {
   "cell_type": "code",
   "execution_count": null,
   "metadata": {},
   "source": [
    "# Check for missing values\n",
    "missing_counts = df.isnull().sum()\n",
    "\n",
    "# Plot missing values\n",
    "plt.figure(figsize=(12, 6))\n",
    "missing_counts.plot(kind='bar', color='lightcoral')\n",
    "plt.title('Missing Values per Column')\n",
    "plt.xlabel('Column')\n",
    "plt.ylabel('Number of Missing Values')\n",
    "plt.xticks(rotation=45)\n",
    "plt.tight_layout()\n",
    "plt.show()\n",
    "\n",
    "# Focus on narrative column\n",
    "print('\nNumber of complaints with missing narratives:', \n",
          df['Consumer complaint narrative'].isnull().sum())"
   ]
  },
  {
   "cell_type": "markdown",
   "metadata": {},
   "source": [
    "## Data Preprocessing\n",
    "\n",
    "### 1. Filter Relevant Products"
   ]
  },
  {
   "cell_type": "code",
   "execution_count": null,
   "metadata": {},
   "source": [
    "# Define target products\n",
    "TARGET_PRODUCTS = ['Credit card', 'Personal loan', 'Buy Now, Pay Later (BNPL)', \n",
                     "'Savings account', 'Money transfer']\n",
    "\n",
    "# Filter dataset\n",
    "df_filtered = df[df['Product'].isin(TARGET_PRODUCTS)].copy()\n",
    "\n",
    "# Remove rows with missing narratives\n",
    "df_filtered = df_filtered.dropna(subset=['Consumer complaint narrative'])\n",
    "\n",
    "print('Filtered dataset shape:', df_filtered.shape)\n",
    "print('\nDistribution of target products:')\n",
    "print(df_filtered['Product'].value_counts())"
   ]
  },
  {
   "cell_type": "markdown",
   "metadata": {},
   "source": [
    "### 2. Text Cleaning"
   ]
  },
  {
   "cell_type": "code",
   "execution_count": null,
   "metadata": {},
   "source": [
    "def clean_text(text):\n",
    "    if pd.isna(text):\n",
    "        return ''\n",
    "    \n",
    "    # Convert to lowercase\n",
    "    text = text.lower()\n",
    "    \n",
    "    # Remove special characters and numbers\n",
    "    text = re.sub(r'[^\w\s]', '', text)\n",
    "    \n",
    "    # Remove extra whitespace\n",
    "    text = ' '.join(text.split())\n",
    "    \n",
    "    return text\n",
    "\n",
    "# Apply cleaning\n",
    "df_filtered['cleaned_narrative'] = df_filtered['Consumer complaint narrative'].apply(clean_text)\n",
    "\n",
    "# Check before and after examples\n",
    "sample_idx = np.random.randint(0, len(df_filtered))\n",
    "print('Original text:\n', df_filtered['Consumer complaint narrative'].iloc[sample_idx])\n",
    "print('\nCleaned text:\n', df_filtered['cleaned_narrative'].iloc[sample_idx])"
   ]
  },
  {
   "cell_type": "markdown",
   "metadata": {},
   "source": [
    "## Save Processed Data"
   ]
  },
  {
   "cell_type": "code",
   "execution_count": null,
   "metadata": {},
   "source": [
    "# Save filtered and cleaned data\n",
    "df_filtered.to_csv('../data/filtered_complaints.csv', index=False)\n",
    "print('Processed data saved successfully.')"
   ]
  }
 ],
 "metadata": {
  "kernelspec": {
   "display_name": "Python 3",
   "language": "python",
   "name": "python3"
  },
  "language_info": {
   "codemirror_mode": {
    "name": "ipython",
    "version": 3
   },
   "file_extension": ".py",
   "mimetype": "text/x-python",
   "name": "python",
   "nbconvert_exporter": "python",
   "pygments_lexer": "ipython3",
   "version": "3.8.0"
  }
 },
 "nbformat": 4,
 "nbformat_minor": 4
}
